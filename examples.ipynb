{
 "cells": [
  {
   "cell_type": "markdown",
   "metadata": {},
   "source": [
    "# Aditional examples implementing the Ideal Flash module.\n",
    "---\n",
    "\n",
    "This notebook will show you how to change some of the parameters on the *example.py* file. First we will solve the same example but making use of **Jupyter Notebooks**. After that, a couple of additional example extract them from the book *Separation Process Engineering* by *Phillip C. Wankat*, Third edition will be solve as well."
   ]
  },
  {
   "cell_type": "code",
   "execution_count": null,
   "metadata": {},
   "outputs": [],
   "source": [
    "# Importing the modules\n",
    "from streams.substance import Substance\n",
    "from streams.stream import Stream\n",
    "from streams.parameter import Parameter\n",
    "from opus.flash import Flash"
   ]
  },
  {
   "cell_type": "markdown",
   "metadata": {},
   "source": [
    "## Example 1\n",
    "---\n",
    "\n",
    "A flash chamber operating at 50°C and 200 kPa is separating 1000 kmol/h of afeed that is 30 mol% propane, 10 mol% n-butane, 15 mol% n-pentane and 45 mol%n-hexane. Find the product compositions and flow rates"
   ]
  },
  {
   "cell_type": "markdown",
   "metadata": {},
   "source": [
    "![Diagram of the problem](https://oscarcontrerasnavas.github.io/assets/img/idealDistillation/processDiagram.jpg)"
   ]
  },
  {
   "cell_type": "code",
   "execution_count": null,
   "metadata": {},
   "outputs": [],
   "source": [
    "# Define substances\n",
    "propane = Substance('Propane')\n",
    "butane = Substance('Butane')\n",
    "pentane = Substance('Pentane')\n",
    "hexane = Substance('Hexane')\n",
    "substances = [propane, butane, pentane, hexane]\n",
    "composition = [0.3, 0.1, 0.15, 0.45]"
   ]
  },
  {
   "cell_type": "code",
   "execution_count": null,
   "metadata": {},
   "outputs": [],
   "source": [
    "# Define Parameters\n",
    "temperature = Parameter('Temperature', 323, 'K')\n",
    "pressure = Parameter('Pressure', 200, 'kPa')\n",
    "flow_rate = Parameter('Mass Flow Rate', 1000,'kmol/h')"
   ]
  },
  {
   "cell_type": "code",
   "execution_count": null,
   "metadata": {},
   "outputs": [],
   "source": [
    "#Define Streams\n",
    "inlet = Stream('Inlet', substances, flow_rate, composition, pressure, temperature)\n",
    "vapor = Stream('Vapor', substances)\n",
    "liquid = Stream('Liquid', substances)"
   ]
  },
  {
   "cell_type": "code",
   "execution_count": null,
   "metadata": {},
   "outputs": [],
   "source": [
    "# Define a Flash\n",
    "flash = Flash('V-101', inlet, vapor, liquid)\n",
    "flash.solve()\n",
    "to_print() "
   ]
  },
  {
   "cell_type": "markdown",
   "metadata": {},
   "source": [
    "Our solution is $V = 503.8$ kmol/h and $L = 496.2$ kmol/h and the book solution using the DePriester charts is $V = 510$ kmol/h and $L = 490$ kmol/h. Preaty close for an ideal method."
   ]
  },
  {
   "cell_type": "markdown",
   "metadata": {},
   "source": [
    "## Example 2\n",
    "---\n",
    "We wish to flash distill a feed that is 10 mol% propane, 30 mol% n-butane, and 60 mol% nhexane. Feed rate is 10 kmol/h, and drum pressure is 200 kPa. We desire a liquid that is 85 mol% n-hexane. Find T and V/F."
   ]
  },
  {
   "cell_type": "code",
   "execution_count": null,
   "metadata": {},
   "outputs": [],
   "source": [
    "# Define substances\n",
    "propane = Substance('Propane')\n",
    "butane = Substance('Butane')\n",
    "hexane = Substance('Hexane')\n",
    "substances = [propane, butane, hexane]\n",
    "composition = [.10, .30, .60]"
   ]
  },
  {
   "cell_type": "code",
   "execution_count": null,
   "metadata": {},
   "outputs": [],
   "source": [
    "# Define Parameters\n",
    "temperature = Parameter('Temperature', 300, 'K') # Test 1\n",
    "pressure = Parameter('Pressure', 200, 'kPa')\n",
    "flow_rate = Parameter('Mass Flow Rate', 10,'kmol/h')"
   ]
  },
  {
   "cell_type": "code",
   "execution_count": null,
   "metadata": {},
   "outputs": [],
   "source": [
    "#Define Streams\n",
    "inlet = Stream('Inlet', substances, flow_rate, composition, pressure, temperature)\n",
    "vapor = Stream('Vapor', substances)\n",
    "liquid = Stream('Liquid', substances)"
   ]
  },
  {
   "cell_type": "code",
   "execution_count": null,
   "metadata": {},
   "outputs": [],
   "source": [
    "# Define a Flash\n",
    "flash = Flash('V-101', inlet, vapor, liquid)\n",
    "flash.solve()\n",
    "to_print()"
   ]
  },
  {
   "cell_type": "markdown",
   "metadata": {},
   "source": [
    "Now we will change the temperature until we reach a  $x_{hexane} = 0.85$ molar fraction"
   ]
  },
  {
   "cell_type": "code",
   "execution_count": null,
   "metadata": {},
   "outputs": [],
   "source": [
    "error = 1\n",
    "desired = .85\n",
    "i=0\n",
    "while error >= 1e-3:\n",
    "    i+=1\n",
    "    t = 300 + 0.1*i\n",
    "    flash.inlet.temperature.value = t\n",
    "    flash.solve()\n",
    "    current = flash.liquid.compositions[\"hexane\"]\n",
    "    error = abs(current - desired)    \n",
    "    \n",
    "# check results    \n",
    "print(\"T = {0:.2f} {1}\\n\".format(flash.inlet.temperature.value, flash.inlet.temperature.units))    \n",
    "to_print()    "
   ]
  },
  {
   "cell_type": "markdown",
   "metadata": {},
   "source": [
    "Our solution is $T = 336.10$ K and $V/F = 0.51$ and the book solution using the DePriester charts is $T = 338.6$ K and $V/F = 0.57$. Preaty close for an ideal method."
   ]
  },
  {
   "cell_type": "markdown",
   "metadata": {},
   "source": [
    "## Example 3\n",
    "---\n",
    "A flash drum operating at 300 kPa is separating a mixture that is fed in as 40 mol% isobutane, 25% n-pentane, and 35% n-hexane. We wish a 90% recovery of n-hexane in the liquid (that is, 90% of the n-hexane in the feed exits in the liquid product). F = 1000 kmol/h. Find T, xj, yj, V/F."
   ]
  },
  {
   "cell_type": "code",
   "execution_count": null,
   "metadata": {},
   "outputs": [],
   "source": [
    "# Define substances\n",
    "isobutane = Substance('Isobutane')\n",
    "pentane = Substance('Pentane')\n",
    "hexane = Substance('Hexane')\n",
    "substances = [isobutane, pentane, hexane]\n",
    "composition = [.40, .25, .35]"
   ]
  },
  {
   "cell_type": "code",
   "execution_count": null,
   "metadata": {},
   "outputs": [],
   "source": [
    "# Define Parameters\n",
    "temperature = Parameter('Temperature', 330, 'K') # Test 1\n",
    "pressure = Parameter('Pressure', 300, 'kPa')\n",
    "flow_rate = Parameter('Mass Flow Rate', 1000,'kmol/h')"
   ]
  },
  {
   "cell_type": "code",
   "execution_count": null,
   "metadata": {},
   "outputs": [],
   "source": [
    "#Define Streams\n",
    "inlet = Stream('Inlet', substances, flow_rate, composition, pressure, temperature)\n",
    "vapor = Stream('Vapor', substances)\n",
    "liquid = Stream('Liquid', substances)"
   ]
  },
  {
   "cell_type": "code",
   "execution_count": null,
   "metadata": {},
   "outputs": [],
   "source": [
    "# Define a Flash\n",
    "flash = Flash('V-101', inlet, vapor, liquid)\n",
    "flash.solve()\n",
    "to_print()\n",
    "print(\"\\nLx_hex = {0:.2f} kmolh\".format(flash.liquid.flow_rate.value * flash.liquid.compositions[\"hexane\"]))"
   ]
  },
  {
   "cell_type": "markdown",
   "metadata": {},
   "source": [
    "Now we need to loop over the `Temperature` until we reach \n",
    "\n",
    "$$Lx_{\\text{hexane}} = 0.9Fz_{\\text{hexane}}$$\n",
    "\n",
    "or \n",
    "\n",
    "$$Lx_{\\text{hexane}} = 315 \\ \\text{kmol/h}$$"
   ]
  },
  {
   "cell_type": "code",
   "execution_count": null,
   "metadata": {},
   "outputs": [],
   "source": [
    "error = 100\n",
    "desired = 315\n",
    "i=0\n",
    "while error >= 1:\n",
    "    i+=1\n",
    "    t = 330 + 0.1*i\n",
    "    flash.inlet.temperature.value = t\n",
    "    flash.solve()\n",
    "    current = flash.liquid.compositions[\"hexane\"] * flash.liquid.flow_rate.value\n",
    "    error = abs(current - desired)    \n",
    "    \n",
    "# check results    \n",
    "print(\"T = {0:.2f} {1}\\n\".format(flash.inlet.temperature.value, flash.inlet.temperature.units))    \n",
    "to_print()  \n",
    "print(\"\\nLx_hex = {0:.2f} kmolh\".format(flash.liquid.flow_rate.value * flash.liquid.compositions[\"hexane\"]))"
   ]
  },
  {
   "cell_type": "markdown",
   "metadata": {},
   "source": [
    "Our solution is $T = 330.70$ K and $V/F = 0.317$ and the book solution using the DePriester charts is $T = 330.15$ K and $V/F = 0.293$. Preaty close for an ideal method."
   ]
  },
  {
   "cell_type": "code",
   "execution_count": null,
   "metadata": {},
   "outputs": [],
   "source": [
    "def to_print():\n",
    "    \n",
    "    # For inlet\n",
    "    print(\n",
    "        \"F = {0} {1}\".format(flash.inlet.flow_rate.value, flash.inlet.flow_rate.units) \n",
    "    )\n",
    "    for tag, substance in flash.inlet.substances.items():\n",
    "        print(\n",
    "            \"z_{0} = {1}\".format(substance.tag, flash.inlet.compositions[tag])\n",
    "        )\n",
    "        \n",
    "    # For vapor\n",
    "    print(\"\")\n",
    "    print(\n",
    "        \"V = {0:.1f} {1}\".format(flash.vapor.flow_rate.value, flash.vapor.flow_rate.units) \n",
    "    )\n",
    "    for tag, substance in flash.vapor.substances.items():\n",
    "        print(\n",
    "            \"y_{0} = {1:.3f}\".format(substance.tag, flash.vapor.compositions[tag])\n",
    "        )\n",
    "        \n",
    "    # For liquid\n",
    "    print(\"\")\n",
    "    print(\n",
    "        \"L = {0:.1f} {1}\".format(flash.liquid.flow_rate.value, flash.liquid.flow_rate.units) \n",
    "    )\n",
    "    for tag, substance in flash.liquid.substances.items():\n",
    "        print(\n",
    "            \"x_{0} = {1:.3f}\".format(substance.tag, flash.liquid.compositions[tag])\n",
    "        )"
   ]
  }
 ],
 "metadata": {
  "kernelspec": {
   "display_name": "Python 3",
   "language": "python",
   "name": "python3"
  },
  "language_info": {
   "codemirror_mode": {
    "name": "ipython",
    "version": 3
   },
   "file_extension": ".py",
   "mimetype": "text/x-python",
   "name": "python",
   "nbconvert_exporter": "python",
   "pygments_lexer": "ipython3",
   "version": "3.6.6"
  }
 },
 "nbformat": 4,
 "nbformat_minor": 2
}
